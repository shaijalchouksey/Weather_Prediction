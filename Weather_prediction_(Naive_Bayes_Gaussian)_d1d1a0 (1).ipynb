{
  "metadata": {
    "kernelspec": {
      "name": "python3",
      "display_name": "Python 3",
      "language": "python"
    },
    "language_info": {
      "name": "python",
      "version": "3.10.12",
      "mimetype": "text/x-python",
      "codemirror_mode": {
        "name": "ipython",
        "version": 3
      },
      "pygments_lexer": "ipython3",
      "nbconvert_exporter": "python",
      "file_extension": ".py"
    },
    "kaggle": {
      "accelerator": "none",
      "dataSources": [
        {
          "sourceId": 3051857,
          "sourceType": "datasetVersion",
          "datasetId": 1868601
        }
      ],
      "dockerImageVersionId": 30587,
      "isInternetEnabled": false,
      "language": "python",
      "sourceType": "notebook",
      "isGpuEnabled": false
    },
    "colab": {
      "name": "Weather-prediction (Naive Bayes-Gaussian) d1d1a0",
      "provenance": []
    }
  },
  "nbformat_minor": 0,
  "nbformat": 4,
  "cells": [
    {
      "source": [
        "# IMPORTANT: RUN THIS CELL IN ORDER TO IMPORT YOUR KAGGLE DATA SOURCES,\n",
        "# THEN FEEL FREE TO DELETE THIS CELL.\n",
        "# NOTE: THIS NOTEBOOK ENVIRONMENT DIFFERS FROM KAGGLE'S PYTHON\n",
        "# ENVIRONMENT SO THERE MAY BE MISSING LIBRARIES USED BY YOUR\n",
        "# NOTEBOOK.\n",
        "import kagglehub\n",
        "ananthr1_weather_prediction_path = kagglehub.dataset_download('ananthr1/weather-prediction')\n",
        "\n",
        "print('Data source import complete.')\n"
      ],
      "metadata": {
        "id": "KqzayBbxOMAW"
      },
      "cell_type": "code",
      "outputs": [],
      "execution_count": null
    },
    {
      "cell_type": "code",
      "source": [
        "import numpy as np\n",
        "import pandas as pd\n",
        "import seaborn as sns\n",
        "import matplotlib.pyplot as plt"
      ],
      "metadata": {
        "id": "a00lUqmYOMAY"
      },
      "outputs": [],
      "execution_count": null
    },
    {
      "cell_type": "code",
      "source": [
        "df=pd.read_csv('/kaggle/input/weather-prediction/seattle-weather.csv')\n",
        "df"
      ],
      "metadata": {
        "id": "hTmUMR3oOMAa"
      },
      "outputs": [],
      "execution_count": null
    },
    {
      "cell_type": "code",
      "source": [
        "df.info()"
      ],
      "metadata": {
        "id": "xGosD91VOMAc"
      },
      "outputs": [],
      "execution_count": null
    },
    {
      "cell_type": "code",
      "source": [
        "df.describe()"
      ],
      "metadata": {
        "id": "xkcAcuffOMAd"
      },
      "outputs": [],
      "execution_count": null
    },
    {
      "cell_type": "code",
      "source": [
        "df.isna().sum()"
      ],
      "metadata": {
        "id": "DQ54bSJcOMAe"
      },
      "outputs": [],
      "execution_count": null
    },
    {
      "cell_type": "code",
      "source": [
        "df.duplicated().sum()"
      ],
      "metadata": {
        "id": "CG-84UqXOMAf"
      },
      "outputs": [],
      "execution_count": null
    },
    {
      "cell_type": "code",
      "source": [
        "df[df['temp_min']==min(df.temp_min)]"
      ],
      "metadata": {
        "id": "_aChE0diOMAg"
      },
      "outputs": [],
      "execution_count": null
    },
    {
      "cell_type": "code",
      "source": [
        "df[df['temp_max']==max(df.temp_max)]"
      ],
      "metadata": {
        "id": "RZl0SHf7OMAh"
      },
      "outputs": [],
      "execution_count": null
    },
    {
      "cell_type": "code",
      "source": [
        "plt.figure(figsize=(12,6))\n",
        "sns.histplot(data=df,x=df.temp_max,bins=20)"
      ],
      "metadata": {
        "id": "-EpAOFMXOMAh"
      },
      "outputs": [],
      "execution_count": null
    },
    {
      "cell_type": "code",
      "source": [
        "plt.figure(figsize=(12,6))\n",
        "sns.histplot(data=df,x=df.temp_min,bins=20)"
      ],
      "metadata": {
        "id": "oEM8C9YKOMAi"
      },
      "outputs": [],
      "execution_count": null
    },
    {
      "cell_type": "code",
      "source": [
        "df.loc[:,['date','temp_max']]\n",
        "df['date'] = pd.to_datetime(df['date'])"
      ],
      "metadata": {
        "id": "mvkFMrQ-OMAj"
      },
      "outputs": [],
      "execution_count": null
    },
    {
      "cell_type": "markdown",
      "source": [
        "# Max temperature in each month in each year"
      ],
      "metadata": {
        "id": "RSCQmlZJOMAk"
      }
    },
    {
      "cell_type": "code",
      "source": [
        "df['year'] = df['date'].dt.year\n",
        "df['month'] = df['date'].dt.month\n",
        "g = sns.FacetGrid(df, col='year', col_wrap=4, height=4)\n",
        "g.map(sns.lineplot, 'month', 'temp_max')\n",
        "g.set_axis_labels('Month', 'Max Temperature (°C)')\n",
        "g.set_titles(col_template=\"{col_name}\")\n",
        "plt.show()"
      ],
      "metadata": {
        "id": "wdIJP0p4OMAm"
      },
      "outputs": [],
      "execution_count": null
    },
    {
      "cell_type": "markdown",
      "source": [
        "# Min temperature in each month in each year"
      ],
      "metadata": {
        "id": "dc_CllKtOMAn"
      }
    },
    {
      "cell_type": "code",
      "source": [
        "g = sns.FacetGrid(df, col='year', col_wrap=4, height=4)\n",
        "g.map(sns.lineplot, 'month', 'temp_min')\n",
        "g.set_axis_labels('Month', 'Min Temperature (°C)')\n",
        "g.set_titles(col_template=\"{col_name}\")\n",
        "plt.show()"
      ],
      "metadata": {
        "id": "eTpKukqKOMAn"
      },
      "outputs": [],
      "execution_count": null
    },
    {
      "cell_type": "markdown",
      "source": [
        "# Precipitation in each month in each year"
      ],
      "metadata": {
        "id": "PRqv-CadOMAn"
      }
    },
    {
      "cell_type": "code",
      "source": [
        "g = sns.FacetGrid(df, col='year', col_wrap=4, height=4)\n",
        "g.map(sns.scatterplot, 'month', 'precipitation')\n",
        "g.set_axis_labels('Month', 'Precipitation')\n",
        "g.set_titles(col_template=\"{col_name}\")\n",
        "plt.show()"
      ],
      "metadata": {
        "id": "DMS1MvZSOMAo"
      },
      "outputs": [],
      "execution_count": null
    },
    {
      "cell_type": "code",
      "source": [
        "g = sns.FacetGrid(df, col='year', col_wrap=4, height=5)\n",
        "g.map(sns.scatterplot, 'month', 'wind')\n",
        "g.set_axis_labels('Month', 'Wind speed')\n",
        "g.set_titles(col_template=\"{col_name}\")\n",
        "plt.show()"
      ],
      "metadata": {
        "id": "pNh4phI0OMAo"
      },
      "outputs": [],
      "execution_count": null
    },
    {
      "cell_type": "code",
      "source": [
        "df.weather.value_counts()"
      ],
      "metadata": {
        "id": "n0rhxbRfOMAo"
      },
      "outputs": [],
      "execution_count": null
    },
    {
      "cell_type": "code",
      "source": [
        "plt.figure(figsize=(8,6))\n",
        "sns.countplot(data=df,x=df.weather)"
      ],
      "metadata": {
        "id": "Gsq0MmL3OMAp"
      },
      "outputs": [],
      "execution_count": null
    },
    {
      "cell_type": "code",
      "source": [
        "x=df.weather.value_counts()\n",
        "plt.figure(figsize=(12, 10))\n",
        "plt.pie(x, labels=x.index, autopct='%1.1f%%', startangle=90, colors=['lightblue', 'gold', 'lightgray', 'lightgreen', 'lightcoral'])\n",
        "plt.title('Distribution of Weather Types')\n",
        "plt.show()"
      ],
      "metadata": {
        "id": "9SiQ9K7vOMAp"
      },
      "outputs": [],
      "execution_count": null
    },
    {
      "cell_type": "code",
      "source": [
        "df.drop('month',axis=1,inplace=True)\n",
        "df.drop('year',axis=1,inplace=True)"
      ],
      "metadata": {
        "id": "A1qtH3YIOMAp"
      },
      "outputs": [],
      "execution_count": null
    },
    {
      "cell_type": "code",
      "source": [
        "from sklearn.model_selection import train_test_split\n",
        "from sklearn.naive_bayes import GaussianNB\n",
        "from sklearn.metrics import accuracy_score, classification_report, confusion_matrix\n",
        "from sklearn.preprocessing import LabelEncoder\n",
        "\n",
        "df.info()"
      ],
      "metadata": {
        "id": "PXflQ-KqOMAp"
      },
      "outputs": [],
      "execution_count": null
    },
    {
      "cell_type": "code",
      "source": [
        "from sklearn.preprocessing import LabelEncoder\n",
        "le=LabelEncoder()\n",
        "df['weather']=le.fit_transform(df['weather'])"
      ],
      "metadata": {
        "id": "uSAJ-qJHOMAq"
      },
      "outputs": [],
      "execution_count": null
    },
    {
      "cell_type": "code",
      "source": [
        "x = df[['temp_min', 'temp_max', 'precipitation', 'wind']]\n",
        "y=df['weather']\n",
        "X_train, X_test, y_train, y_test = train_test_split(x, y, test_size=0.2, random_state=42)\n",
        "\n",
        "nb_model = GaussianNB()\n",
        "nb_model.fit(X_train, y_train)\n",
        "\n",
        "y_pred = nb_model.predict(X_test)\n",
        "\n",
        "accuracy = accuracy_score(y_test, y_pred)\n",
        "conf_matrix = confusion_matrix(y_test, y_pred)\n",
        "classification_rep = classification_report(y_test, y_pred, zero_division=1)\n",
        "\n",
        "\n",
        "print(f\"Accuracy: {accuracy:.2f}\")\n"
      ],
      "metadata": {
        "execution": {
          "iopub.status.busy": "2023-11-25T10:55:32.457666Z",
          "iopub.execute_input": "2023-11-25T10:55:32.458266Z",
          "iopub.status.idle": "2023-11-25T10:55:32.757143Z",
          "shell.execute_reply.started": "2023-11-25T10:55:32.45824Z",
          "shell.execute_reply": "2023-11-25T10:55:32.754941Z"
        },
        "trusted": true,
        "id": "h7sZ9m7cOMAr"
      },
      "outputs": [],
      "execution_count": null
    },
    {
      "cell_type": "code",
      "source": [
        "print(\"Confusion Matrix:\")\n",
        "print(conf_matrix)\n",
        "print(\"Classification Report:\")\n",
        "print(classification_rep)"
      ],
      "metadata": {
        "execution": {
          "iopub.status.busy": "2023-11-25T10:55:32.757882Z",
          "iopub.status.idle": "2023-11-25T10:55:32.758213Z",
          "shell.execute_reply.started": "2023-11-25T10:55:32.758045Z",
          "shell.execute_reply": "2023-11-25T10:55:32.758059Z"
        },
        "trusted": true,
        "id": "gUyuNOzsOMAs"
      },
      "outputs": [],
      "execution_count": null
    },
    {
      "cell_type": "code",
      "source": [],
      "metadata": {
        "id": "f4h2rl_nOMAs"
      },
      "outputs": [],
      "execution_count": null
    }
  ]
}